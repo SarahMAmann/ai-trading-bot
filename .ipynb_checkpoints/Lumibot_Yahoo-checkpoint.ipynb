{
 "cells": [
  {
   "cell_type": "code",
   "execution_count": null,
   "id": "46852c82-58ec-4ad0-9c30-d95cec16f6a9",
   "metadata": {},
   "outputs": [],
   "source": [
    "from datetime import datetime\n",
    "\n",
    "from lumibot.backtesting import BacktestingBroker, YahooDataBacktesting\n",
    "from lumibot.strategies import Strategy\n",
    "from lumibot.traders import Trader\n",
    "\n",
    "\n",
    "# A simple strategy that buys AAPL on the first day\n",
    "class MyStrategy(Strategy):\n",
    "    def on_trading_iteration(self):\n",
    "        if self.first_iteration:\n",
    "            aapl_price = self.get_last_price(\"AAPL\")\n",
    "            quantity = self.portfolio_value // aapl_price\n",
    "            order = self.create_order(\"AAPL\", quantity, \"buy\")\n",
    "            self.submit_order(order)\n",
    "\n",
    "\n",
    "# Pick the dates that you want to start and end your backtest\n",
    "# and the allocated budget\n",
    "backtesting_start = datetime(2024, 1, 1)\n",
    "backtesting_end = datetime(2024, 2, 20)\n",
    "\n",
    "# Run the backtest\n",
    "trader = Trader(backtest=True)\n",
    "data_source = YahooDataBacktesting(\n",
    "    datetime_start=backtesting_start,\n",
    "    datetime_end=backtesting_end,\n",
    ")\n",
    "broker = BacktestingBroker(data_source)\n",
    "strat = MyStrategy(\n",
    "    broker=broker,\n",
    ")\n",
    "trader.add_strategy(strat)\n",
    "trader.run_all()"
   ]
  }
 ],
 "metadata": {
  "kernelspec": {
   "display_name": "Python 3 (ipykernel)",
   "language": "python",
   "name": "python3"
  },
  "language_info": {
   "codemirror_mode": {
    "name": "ipython",
    "version": 3
   },
   "file_extension": ".py",
   "mimetype": "text/x-python",
   "name": "python",
   "nbconvert_exporter": "python",
   "pygments_lexer": "ipython3",
   "version": "3.10.2"
  }
 },
 "nbformat": 4,
 "nbformat_minor": 5
}
