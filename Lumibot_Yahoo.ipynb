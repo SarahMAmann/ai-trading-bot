{
 "cells": [
  {
   "cell_type": "code",
   "execution_count": 1,
   "id": "46852c82-58ec-4ad0-9c30-d95cec16f6a9",
   "metadata": {},
   "outputs": [
    {
     "name": "stderr",
     "output_type": "stream",
     "text": [
      "/Library/Frameworks/Python.framework/Versions/3.10/lib/python3.10/site-packages/yfinance/utils.py:775: FutureWarning: The 'unit' keyword in TimedeltaIndex construction is deprecated and will be removed in a future version. Use pd.to_timedelta instead.\n",
      "  df.index += _pd.TimedeltaIndex(dst_error_hours, 'h')\n"
     ]
    },
    {
     "name": "stdout",
     "output_type": "stream",
     "text": [
      "Progress |\u001b[32m\u001b[0m|   2.82%  [Elapsed: 0:00:03 ETA: 0:01:48] Portfolio Val: 100,000.00"
     ]
    },
    {
     "name": "stderr",
     "output_type": "stream",
     "text": [
      "/Library/Frameworks/Python.framework/Versions/3.10/lib/python3.10/site-packages/lumibot/backtesting/backtesting_broker.py:513: FutureWarning: Series.__getitem__ treating keys as positions is deprecated. In a future version, integer keys will always be treated as labels (consistent with DataFrame behavior). To access a value by position, use `ser.iloc[pos]`\n",
      "  open = ohlc.df.open[-1]\n",
      "/Library/Frameworks/Python.framework/Versions/3.10/lib/python3.10/site-packages/lumibot/backtesting/backtesting_broker.py:514: FutureWarning: Series.__getitem__ treating keys as positions is deprecated. In a future version, integer keys will always be treated as labels (consistent with DataFrame behavior). To access a value by position, use `ser.iloc[pos]`\n",
      "  high = ohlc.df.high[-1]\n",
      "/Library/Frameworks/Python.framework/Versions/3.10/lib/python3.10/site-packages/lumibot/backtesting/backtesting_broker.py:515: FutureWarning: Series.__getitem__ treating keys as positions is deprecated. In a future version, integer keys will always be treated as labels (consistent with DataFrame behavior). To access a value by position, use `ser.iloc[pos]`\n",
      "  low = ohlc.df.low[-1]\n",
      "/Library/Frameworks/Python.framework/Versions/3.10/lib/python3.10/site-packages/lumibot/backtesting/backtesting_broker.py:516: FutureWarning: Series.__getitem__ treating keys as positions is deprecated. In a future version, integer keys will always be treated as labels (consistent with DataFrame behavior). To access a value by position, use `ser.iloc[pos]`\n",
      "  close = ohlc.df.close[-1]\n",
      "/Library/Frameworks/Python.framework/Versions/3.10/lib/python3.10/site-packages/lumibot/backtesting/backtesting_broker.py:517: FutureWarning: Series.__getitem__ treating keys as positions is deprecated. In a future version, integer keys will always be treated as labels (consistent with DataFrame behavior). To access a value by position, use `ser.iloc[pos]`\n",
      "  volume = ohlc.df.volume[-1]\n"
     ]
    },
    {
     "name": "stdout",
     "output_type": "stream",
     "text": [
      "Progress |\u001b[32m\u001b[0m|   4.82%  [Elapsed: 0:00:07 ETA: 0:02:24] Portfolio Val: 98,435.380"
     ]
    },
    {
     "name": "stderr",
     "output_type": "stream",
     "text": [
      "/Library/Frameworks/Python.framework/Versions/3.10/lib/python3.10/site-packages/lumibot/entities/bars.py:188: FutureWarning: Series.__getitem__ treating keys as positions is deprecated. In a future version, integer keys will always be treated as labels (consistent with DataFrame behavior). To access a value by position, use `ser.iloc[pos]`\n",
      "  return self.df[\"dividend\"][-1]\n"
     ]
    },
    {
     "name": "stdout",
     "output_type": "stream",
     "text": [
      "Progress |\u001b[32m\u001b[0m| 100.00%  [Elapsed: 0:02:20 ETA: 0:00:00] Portfolio Val: 98,136.344"
     ]
    },
    {
     "name": "stderr",
     "output_type": "stream",
     "text": [
      "/Library/Frameworks/Python.framework/Versions/3.10/lib/python3.10/site-packages/yfinance/utils.py:775: FutureWarning: The 'unit' keyword in TimedeltaIndex construction is deprecated and will be removed in a future version. Use pd.to_timedelta instead.\n",
      "  df.index += _pd.TimedeltaIndex(dst_error_hours, 'h')\n"
     ]
    },
    {
     "name": "stdout",
     "output_type": "stream",
     "text": [
      "\n",
      "Creating trades plot...\n",
      "\n",
      "Creating indicators plot...\n",
      "\n",
      "Creating tearsheet...\n"
     ]
    },
    {
     "data": {
      "text/plain": [
       "{'MyStrategy': {'cagr': -0.14160781733066208,\n",
       "  'volatility': 0.23586230148184262,\n",
       "  'sharpe': -0.822546963170164,\n",
       "  'max_drawdown': {'drawdown': 0.0795761587403073,\n",
       "   'date': Timestamp('2024-02-02 09:30:00-0500', tz='America/New_York')},\n",
       "  'romad': -1.7795256716624375,\n",
       "  'total_return': -0.01863657718505818}}"
      ]
     },
     "execution_count": 1,
     "metadata": {},
     "output_type": "execute_result"
    }
   ],
   "source": [
    "from datetime import datetime\n",
    "\n",
    "from lumibot.backtesting import BacktestingBroker, YahooDataBacktesting\n",
    "from lumibot.strategies import Strategy\n",
    "from lumibot.traders import Trader\n",
    "\n",
    "\n",
    "# A simple strategy that buys AAPL on the first day\n",
    "class MyStrategy(Strategy):\n",
    "    def on_trading_iteration(self):\n",
    "        if self.first_iteration:\n",
    "            aapl_price = self.get_last_price(\"AAPL\")\n",
    "            quantity = self.portfolio_value // aapl_price\n",
    "            order = self.create_order(\"AAPL\", quantity, \"buy\")\n",
    "            self.submit_order(order)\n",
    "\n",
    "\n",
    "# Pick the dates that you want to start and end your backtest\n",
    "# and the allocated budget\n",
    "backtesting_start = datetime(2024, 1, 1)\n",
    "backtesting_end = datetime(2024, 2, 20)\n",
    "\n",
    "# Run the backtest\n",
    "trader = Trader(backtest=True)\n",
    "data_source = YahooDataBacktesting(\n",
    "    datetime_start=backtesting_start,\n",
    "    datetime_end=backtesting_end,\n",
    ")\n",
    "broker = BacktestingBroker(data_source)\n",
    "strat = MyStrategy(\n",
    "    broker=broker,\n",
    ")\n",
    "trader.add_strategy(strat)\n",
    "trader.run_all()"
   ]
  }
 ],
 "metadata": {
  "kernelspec": {
   "display_name": "Python 3 (ipykernel)",
   "language": "python",
   "name": "python3"
  },
  "language_info": {
   "codemirror_mode": {
    "name": "ipython",
    "version": 3
   },
   "file_extension": ".py",
   "mimetype": "text/x-python",
   "name": "python",
   "nbconvert_exporter": "python",
   "pygments_lexer": "ipython3",
   "version": "3.10.2"
  }
 },
 "nbformat": 4,
 "nbformat_minor": 5
}
